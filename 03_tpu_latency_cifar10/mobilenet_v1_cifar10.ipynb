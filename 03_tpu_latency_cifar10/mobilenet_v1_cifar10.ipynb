{
    "cells": [
        {
            "cell_type": "code",
            "execution_count": 1,
            "id": "644ae4c0",
            "metadata": {
                "id": "644ae4c0"
            },
            "outputs": [],
            "source": [
                "import tensorflow as tf\n",
                "import numpy as np\n",
                "import tensorflow_datasets as tfds\n",
                "from tensorflow.keras import layers, models\n",
                "import pathlib\n",
                "import os\n"
            ]
        },
        {
            "cell_type": "code",
            "execution_count": 2,
            "id": "f7fcf92b",
            "metadata": {
                "colab": {
                    "base_uri": "https://localhost:8080/",
                    "height": 167,
                    "referenced_widgets": [
                        "f8a703bbb82f4a3bb2bd5b9948971cd6",
                        "415d530858154e149244b71bccc11ea3",
                        "0d26a33a40464b83ac882919752b4b40",
                        "ac12de2634094d4fabcb9fe802f6d1f2",
                        "193b47dc2ce844a597bf3828f71443d7",
                        "c3470e77cf264295990106de84e72825",
                        "3cc013f2bb7b49189505789a8e8363f0",
                        "f319e7b4142a45e29a4688fee42cdd0c",
                        "b5f1c5a30faf432cb75c4d1693ea060b",
                        "6f5cadefe33b4e449e3a5b01015fd06b",
                        "62fe5365967b4b4bb98d5388328d8dca",
                        "f793b07d32374c8982744fb6f6a23d83",
                        "9b216d89e0a448b8af5ba4527c3aab43",
                        "d60d2e2d835846c2a4b0098279a33843",
                        "6191bfcef05d42c3a53c497d3c6de29b",
                        "bd2ec46f41f04bc9be858deaf941e297",
                        "c87ba0db97204b619e09de7af1de674c",
                        "7e617c4c65b948249150683639b509da",
                        "9b72085225cb42d18c217a3358cd3209",
                        "f36808659c9442a395f2fd46c9500ead",
                        "0a3c0073426b46f39299fab7aaeadf7d",
                        "f35a29f380dc40599a806a48f951f185",
                        "adcf55f42a934312bcd8c669df16a886",
                        "aae63d415e164b729595eb4ceef2d12b",
                        "ab23fe252e1a412480bdbe1e773f79bd",
                        "4a3e59a4976d4220b9a267d61a2f7a9f",
                        "ab6f9666c8584b799db55db4015380f6",
                        "a15602f2268d4860ad0134acb8b9511c",
                        "75d727e52a27476689cfbd49eb0f3d6e",
                        "1088285f05ba4c54850750b9131b81e8",
                        "cfa95db1c72349ee83bc75ecf6e4918a",
                        "8c92e07eccac47098bdcf63e211af4cd",
                        "eeb8911cba184b4bb42b19bc8f7212ca",
                        "3706eb3c44c740d0b667375e1c20d971",
                        "36af2696055e4f19a3c3bf4d949d4d20",
                        "97b98905a6274aab9eee2e83802e207e",
                        "ba84cae361a14700aa9fc76345cc9306",
                        "814bce7e080a4827bb5b381a6fa28ba4",
                        "fa96a5ab339a4ac083720a5149816cd4",
                        "a5142cb40bf3488fb1d100d2e759e62c",
                        "62525fe63e174f78bbd4b6e845f05482",
                        "5d636e85d7d245ab9402967bfd8e548e",
                        "81c67f2317f54fc08e7b90d2d6ec3811",
                        "3a0e9b09c14d4c4988e8bf350040e1e5",
                        "c2221375710846bbb018a310ddc4097f",
                        "672ae50bd75849758172b092d7e34c89",
                        "dd79c409b1b44e7ab2cd8fdebf95a24c",
                        "7c006fcd6a844c6c9b86fbdcb769d32b",
                        "ab8c9239cc7d4a568175504c8c904d34",
                        "4dc05013150b41f19587ef539dc013e5",
                        "66194db74bca435c82b4278ed0c8b224",
                        "9265e9b2ede941fc905ff7beb1157087",
                        "bbfa904c66b5433f976ddb4cdbad169f",
                        "0744d8d86af44766ad6ce34f99745b7b",
                        "7470478c500e47e38f89605d9e58ee7a",
                        "8b7252b11c42477792f480b066c063d6",
                        "d9feb2568ac347c8a49fdf975a0c4e7b",
                        "ae5237fb2186463cbe201b83d3823673",
                        "c1928e0966594387bb1c695fae914445",
                        "662f4268f6474e9c9e38f7a6510436e6",
                        "76f706f3f6ad4c4283c40189a9784eb2",
                        "abd1ea62a4704ec78c9258398a156edf",
                        "64f68b89b16a432d8b8b45b17eb4da9c",
                        "ec0a1bee21dd42288857177aa37eadff",
                        "57f6eea8684a42759d225ed4ae844c8d",
                        "81d6a3b515a64eadb0ac27663f72bf8a",
                        "3945fab490fd493b8815bb7b90bb4675",
                        "4156c7e718c748abbf6ef7a1f0265ef6",
                        "a9328adc911c49cfb0a9bc87b3f4ae86",
                        "1e29859d9ebe454085028e7f65070975",
                        "757f8dee0eec49999bde7a612aa8523a",
                        "383dbf7566a54ffca5a369762a4c0f15",
                        "b3f51dd2ba004bcea4e090bab6be59c6",
                        "dd0fac45d07547d8bfd68f4e8dc211fc",
                        "d1a9eaf2117b4c2b81f973963b3161d5",
                        "c0d54c16c9c143668aa8e7f97799caf4",
                        "454cf52bebe14b6785b44b3cfde90cd7",
                        "68e2f3967ae44634919b762823eebd3c",
                        "16f0529b9845401b847e2364f3f50ac4",
                        "0c856f0b8b2d4b7f8fdcb22dddbd0003",
                        "ef06949da35f4510a6981be8f979c15b",
                        "527e2676999a4c9e8140eeca130f853d",
                        "b864233a148648fda5e742254e1a1c68",
                        "264762a86cdd4481b94a240af53697f0",
                        "25ad75651eb749fab088030956a321ba",
                        "aee74e9f1ceb4f09b299027152fa726d",
                        "08e0a00fbbc44472a9b5b0d666c5e7c5",
                        "9c9612e3fbd145fb8c3997ad76892f98"
                    ]
                },
                "id": "f7fcf92b",
                "outputId": "00084a6a-f3d3-4970-bff5-0eb5d8dc131e"
            },
            "outputs": [
                {
                    "output_type": "stream",
                    "name": "stderr",
                    "text": [
                        "WARNING:absl:Variant folder /root/tensorflow_datasets/cifar10/3.0.2 has no dataset_info.json\n"
                    ]
                },
                {
                    "output_type": "stream",
                    "name": "stdout",
                    "text": [
                        "Downloading and preparing dataset Unknown size (download: Unknown size, generated: Unknown size, total: Unknown size) to /root/tensorflow_datasets/cifar10/3.0.2...\n"
                    ]
                },
                {
                    "output_type": "display_data",
                    "data": {
                        "text/plain": [
                            "Dl Completed...: 0 url [00:00, ? url/s]"
                        ],
                        "application/vnd.jupyter.widget-view+json": {
                            "version_major": 2,
                            "version_minor": 0,
                            "model_id": "f8a703bbb82f4a3bb2bd5b9948971cd6"
                        }
                    },
                    "metadata": {}
                },
                {
                    "output_type": "display_data",
                    "data": {
                        "text/plain": [
                            "Dl Size...: 0 MiB [00:00, ? MiB/s]"
                        ],
                        "application/vnd.jupyter.widget-view+json": {
                            "version_major": 2,
                            "version_minor": 0,
                            "model_id": "f793b07d32374c8982744fb6f6a23d83"
                        }
                    },
                    "metadata": {}
                },
                {
                    "output_type": "display_data",
                    "data": {
                        "text/plain": [
                            "Extraction completed...: 0 file [00:00, ? file/s]"
                        ],
                        "application/vnd.jupyter.widget-view+json": {
                            "version_major": 2,
                            "version_minor": 0,
                            "model_id": "adcf55f42a934312bcd8c669df16a886"
                        }
                    },
                    "metadata": {}
                },
                {
                    "output_type": "display_data",
                    "data": {
                        "text/plain": [
                            "Generating splits...:   0%|          | 0/2 [00:00<?, ? splits/s]"
                        ],
                        "application/vnd.jupyter.widget-view+json": {
                            "version_major": 2,
                            "version_minor": 0,
                            "model_id": "3706eb3c44c740d0b667375e1c20d971"
                        }
                    },
                    "metadata": {}
                },
                {
                    "output_type": "display_data",
                    "data": {
                        "text/plain": [
                            "Generating train examples...: 0 examples [00:00, ? examples/s]"
                        ],
                        "application/vnd.jupyter.widget-view+json": {
                            "version_major": 2,
                            "version_minor": 0,
                            "model_id": "c2221375710846bbb018a310ddc4097f"
                        }
                    },
                    "metadata": {}
                },
                {
                    "output_type": "display_data",
                    "data": {
                        "text/plain": [
                            "Shuffling /root/tensorflow_datasets/cifar10/incomplete.Y1EVTC_3.0.2/cifar10-train.tfrecord*...:   0%|         \u2026"
                        ],
                        "application/vnd.jupyter.widget-view+json": {
                            "version_major": 2,
                            "version_minor": 0,
                            "model_id": "8b7252b11c42477792f480b066c063d6"
                        }
                    },
                    "metadata": {}
                },
                {
                    "output_type": "display_data",
                    "data": {
                        "text/plain": [
                            "Generating test examples...: 0 examples [00:00, ? examples/s]"
                        ],
                        "application/vnd.jupyter.widget-view+json": {
                            "version_major": 2,
                            "version_minor": 0,
                            "model_id": "3945fab490fd493b8815bb7b90bb4675"
                        }
                    },
                    "metadata": {}
                },
                {
                    "output_type": "display_data",
                    "data": {
                        "text/plain": [
                            "Shuffling /root/tensorflow_datasets/cifar10/incomplete.Y1EVTC_3.0.2/cifar10-test.tfrecord*...:   0%|          \u2026"
                        ],
                        "application/vnd.jupyter.widget-view+json": {
                            "version_major": 2,
                            "version_minor": 0,
                            "model_id": "68e2f3967ae44634919b762823eebd3c"
                        }
                    },
                    "metadata": {}
                },
                {
                    "output_type": "stream",
                    "name": "stdout",
                    "text": [
                        "Dataset cifar10 downloaded and prepared to /root/tensorflow_datasets/cifar10/3.0.2. Subsequent calls will reuse this data.\n"
                    ]
                }
            ],
            "source": [
                "(ds_train, ds_test), ds_info = tfds.load(\n",
                "    'cifar10',\n",
                "    split=['train', 'test'],\n",
                "    as_supervised=True,\n",
                "    with_info=True,\n",
                "    shuffle_files=True\n",
                ")"
            ]
        },
        {
            "cell_type": "code",
            "execution_count": 3,
            "id": "e7aeabfd",
            "metadata": {
                "id": "e7aeabfd"
            },
            "outputs": [],
            "source": [
                "IMG_SIZE = 128\n",
                "BATCH_SIZE = 64\n",
                "NUM_CLASSES = ds_info.features['label'].num_classes  # 10\n",
                "\n",
                "# data preprocessing : resize + normalization\n",
                "def preprocess(image, label):\n",
                "    # 32x32 -> 128x128\n",
                "    image = tf.image.resize(image, (IMG_SIZE, IMG_SIZE))\n",
                "    # 0~255 -> 0~1\n",
                "    image = tf.cast(image, tf.float32) / 255.0\n",
                "    return image, label"
            ]
        },
        {
            "cell_type": "code",
            "execution_count": 4,
            "id": "8d8c8033",
            "metadata": {
                "id": "8d8c8033"
            },
            "outputs": [],
            "source": [
                "ds_train = ds_train.map(preprocess, num_parallel_calls=tf.data.AUTOTUNE) #\uc5ec\ub7ec \uc774\ubbf8\uc9c0\ub97c \ub3d9\uc2dc\uc5d0 \ubcd1\ub82c\ub85c \uc804\ucc98\ub9ac\n",
                "ds_train = ds_train.batch(BATCH_SIZE)\n",
                "\n",
                "ds_test = ds_test.map(preprocess).batch(BATCH_SIZE)"
            ]
        },
        {
            "cell_type": "code",
            "execution_count": 5,
            "id": "43d1ee32",
            "metadata": {
                "id": "43d1ee32"
            },
            "outputs": [],
            "source": [
                "class MobileNetV1():\n",
                "    def __init__(self, num_classes=10, alpha=1.0, img_size=(IMG_SIZE, IMG_SIZE), dropout=0.001):\n",
                "        self.num_classes = num_classes\n",
                "        self.alpha = alpha\n",
                "        self.dropout = dropout\n",
                "        self.img_size = img_size\n",
                "        self.model = None\n",
                "\n",
                "    def Standard_Conv(self, filters=32, strides=(2,2)):\n",
                "        return models.Sequential([\n",
                "            layers.Conv2D(filters=int(filters*self.alpha), kernel_size=3, strides=strides, padding='same'),\n",
                "            layers.BatchNormalization(),\n",
                "            layers.ReLU()\n",
                "        ])\n",
                "\n",
                "    def DepthwiseConv(self, strides=(1,1), padding='same'):\n",
                "        return models.Sequential([\n",
                "            layers.DepthwiseConv2D(kernel_size=3, strides=strides, padding=padding),\n",
                "            layers.BatchNormalization(),\n",
                "            layers.ReLU()\n",
                "        ])\n",
                "\n",
                "    def PointwiseConv(self, filters):\n",
                "        return models.Sequential([\n",
                "            layers.Conv2D(filters=int(filters*self.alpha), kernel_size=1, strides=1, padding='same'),\n",
                "            layers.BatchNormalization(),\n",
                "            layers.ReLU()\n",
                "        ])\n",
                "\n",
                "    def Depthwise_Separable_Conv(self, strides=(1,1), filters=64):\n",
                "        return models.Sequential([\n",
                "            self.DepthwiseConv(strides=strides, padding='same'),\n",
                "            self.PointwiseConv(filters=filters)\n",
                "        ])\n",
                "\n",
                "    def build(self):\n",
                "        self.model = models.Sequential([\n",
                "            layers.InputLayer(input_shape=(self.img_size[0], self.img_size[1], 3)),\n",
                "\n",
                "            self.Standard_Conv(filters=32, strides=(2,2)),\n",
                "\n",
                "            self.Depthwise_Separable_Conv(strides=(1,1), filters=64),\n",
                "            self.Depthwise_Separable_Conv(strides=(2,2), filters=128),\n",
                "            self.Depthwise_Separable_Conv(strides=(1,1), filters=128),\n",
                "            self.Depthwise_Separable_Conv(strides=(2,2), filters=256),\n",
                "            self.Depthwise_Separable_Conv(strides=(1,1), filters=256),\n",
                "            self.Depthwise_Separable_Conv(strides=(2,2), filters=512),\n",
                "\n",
                "            # 512 block \u00d7 5\n",
                "            *[self.Depthwise_Separable_Conv(strides=(1,1), filters=512) for _ in range(5)],\n",
                "\n",
                "            self.Depthwise_Separable_Conv(strides=(2,2), filters=1024),\n",
                "            self.Depthwise_Separable_Conv(strides=(1,1), filters=1024),\n",
                "\n",
                "            layers.GlobalAveragePooling2D(),\n",
                "            layers.Dropout(self.dropout),\n",
                "            layers.Dense(self.num_classes, activation='softmax')\n",
                "        ])\n",
                "\n",
                "        return self.model\n"
            ]
        },
        {
            "cell_type": "code",
            "execution_count": 6,
            "id": "7bbf067c",
            "metadata": {
                "colab": {
                    "base_uri": "https://localhost:8080/",
                    "height": 725
                },
                "id": "7bbf067c",
                "outputId": "51f3e2ca-a1f2-4795-8fc7-d5839a032db7"
            },
            "outputs": [
                {
                    "output_type": "stream",
                    "name": "stderr",
                    "text": [
                        "/usr/local/lib/python3.12/dist-packages/keras/src/layers/core/input_layer.py:27: UserWarning: Argument `input_shape` is deprecated. Use `shape` instead.\n",
                        "  warnings.warn(\n"
                    ]
                },
                {
                    "output_type": "display_data",
                    "data": {
                        "text/plain": [
                            "\u001b[1mModel: \"sequential_40\"\u001b[0m\n"
                        ],
                        "text/html": [
                            "<pre style=\"white-space:pre;overflow-x:auto;line-height:normal;font-family:Menlo,'DejaVu Sans Mono',consolas,'Courier New',monospace\"><span style=\"font-weight: bold\">Model: \"sequential_40\"</span>\n",
                            "</pre>\n"
                        ]
                    },
                    "metadata": {}
                },
                {
                    "output_type": "display_data",
                    "data": {
                        "text/plain": [
                            "\u250f\u2501\u2501\u2501\u2501\u2501\u2501\u2501\u2501\u2501\u2501\u2501\u2501\u2501\u2501\u2501\u2501\u2501\u2501\u2501\u2501\u2501\u2501\u2501\u2501\u2501\u2501\u2501\u2501\u2501\u2501\u2501\u2501\u2501\u2533\u2501\u2501\u2501\u2501\u2501\u2501\u2501\u2501\u2501\u2501\u2501\u2501\u2501\u2501\u2501\u2501\u2501\u2501\u2501\u2501\u2501\u2501\u2501\u2501\u2533\u2501\u2501\u2501\u2501\u2501\u2501\u2501\u2501\u2501\u2501\u2501\u2501\u2501\u2501\u2501\u2513\n",
                            "\u2503\u001b[1m \u001b[0m\u001b[1mLayer (type)                   \u001b[0m\u001b[1m \u001b[0m\u2503\u001b[1m \u001b[0m\u001b[1mOutput Shape          \u001b[0m\u001b[1m \u001b[0m\u2503\u001b[1m \u001b[0m\u001b[1m      Param #\u001b[0m\u001b[1m \u001b[0m\u2503\n",
                            "\u2521\u2501\u2501\u2501\u2501\u2501\u2501\u2501\u2501\u2501\u2501\u2501\u2501\u2501\u2501\u2501\u2501\u2501\u2501\u2501\u2501\u2501\u2501\u2501\u2501\u2501\u2501\u2501\u2501\u2501\u2501\u2501\u2501\u2501\u2547\u2501\u2501\u2501\u2501\u2501\u2501\u2501\u2501\u2501\u2501\u2501\u2501\u2501\u2501\u2501\u2501\u2501\u2501\u2501\u2501\u2501\u2501\u2501\u2501\u2547\u2501\u2501\u2501\u2501\u2501\u2501\u2501\u2501\u2501\u2501\u2501\u2501\u2501\u2501\u2501\u2529\n",
                            "\u2502 sequential (\u001b[38;5;33mSequential\u001b[0m)         \u2502 (\u001b[38;5;45mNone\u001b[0m, \u001b[38;5;34m64\u001b[0m, \u001b[38;5;34m64\u001b[0m, \u001b[38;5;34m32\u001b[0m)     \u2502         \u001b[38;5;34m1,024\u001b[0m \u2502\n",
                            "\u251c\u2500\u2500\u2500\u2500\u2500\u2500\u2500\u2500\u2500\u2500\u2500\u2500\u2500\u2500\u2500\u2500\u2500\u2500\u2500\u2500\u2500\u2500\u2500\u2500\u2500\u2500\u2500\u2500\u2500\u2500\u2500\u2500\u2500\u253c\u2500\u2500\u2500\u2500\u2500\u2500\u2500\u2500\u2500\u2500\u2500\u2500\u2500\u2500\u2500\u2500\u2500\u2500\u2500\u2500\u2500\u2500\u2500\u2500\u253c\u2500\u2500\u2500\u2500\u2500\u2500\u2500\u2500\u2500\u2500\u2500\u2500\u2500\u2500\u2500\u2524\n",
                            "\u2502 sequential_3 (\u001b[38;5;33mSequential\u001b[0m)       \u2502 (\u001b[38;5;45mNone\u001b[0m, \u001b[38;5;34m64\u001b[0m, \u001b[38;5;34m64\u001b[0m, \u001b[38;5;34m64\u001b[0m)     \u2502         \u001b[38;5;34m2,816\u001b[0m \u2502\n",
                            "\u251c\u2500\u2500\u2500\u2500\u2500\u2500\u2500\u2500\u2500\u2500\u2500\u2500\u2500\u2500\u2500\u2500\u2500\u2500\u2500\u2500\u2500\u2500\u2500\u2500\u2500\u2500\u2500\u2500\u2500\u2500\u2500\u2500\u2500\u253c\u2500\u2500\u2500\u2500\u2500\u2500\u2500\u2500\u2500\u2500\u2500\u2500\u2500\u2500\u2500\u2500\u2500\u2500\u2500\u2500\u2500\u2500\u2500\u2500\u253c\u2500\u2500\u2500\u2500\u2500\u2500\u2500\u2500\u2500\u2500\u2500\u2500\u2500\u2500\u2500\u2524\n",
                            "\u2502 sequential_6 (\u001b[38;5;33mSequential\u001b[0m)       \u2502 (\u001b[38;5;45mNone\u001b[0m, \u001b[38;5;34m32\u001b[0m, \u001b[38;5;34m32\u001b[0m, \u001b[38;5;34m128\u001b[0m)    \u2502         \u001b[38;5;34m9,728\u001b[0m \u2502\n",
                            "\u251c\u2500\u2500\u2500\u2500\u2500\u2500\u2500\u2500\u2500\u2500\u2500\u2500\u2500\u2500\u2500\u2500\u2500\u2500\u2500\u2500\u2500\u2500\u2500\u2500\u2500\u2500\u2500\u2500\u2500\u2500\u2500\u2500\u2500\u253c\u2500\u2500\u2500\u2500\u2500\u2500\u2500\u2500\u2500\u2500\u2500\u2500\u2500\u2500\u2500\u2500\u2500\u2500\u2500\u2500\u2500\u2500\u2500\u2500\u253c\u2500\u2500\u2500\u2500\u2500\u2500\u2500\u2500\u2500\u2500\u2500\u2500\u2500\u2500\u2500\u2524\n",
                            "\u2502 sequential_9 (\u001b[38;5;33mSequential\u001b[0m)       \u2502 (\u001b[38;5;45mNone\u001b[0m, \u001b[38;5;34m32\u001b[0m, \u001b[38;5;34m32\u001b[0m, \u001b[38;5;34m128\u001b[0m)    \u2502        \u001b[38;5;34m18,816\u001b[0m \u2502\n",
                            "\u251c\u2500\u2500\u2500\u2500\u2500\u2500\u2500\u2500\u2500\u2500\u2500\u2500\u2500\u2500\u2500\u2500\u2500\u2500\u2500\u2500\u2500\u2500\u2500\u2500\u2500\u2500\u2500\u2500\u2500\u2500\u2500\u2500\u2500\u253c\u2500\u2500\u2500\u2500\u2500\u2500\u2500\u2500\u2500\u2500\u2500\u2500\u2500\u2500\u2500\u2500\u2500\u2500\u2500\u2500\u2500\u2500\u2500\u2500\u253c\u2500\u2500\u2500\u2500\u2500\u2500\u2500\u2500\u2500\u2500\u2500\u2500\u2500\u2500\u2500\u2524\n",
                            "\u2502 sequential_12 (\u001b[38;5;33mSequential\u001b[0m)      \u2502 (\u001b[38;5;45mNone\u001b[0m, \u001b[38;5;34m16\u001b[0m, \u001b[38;5;34m16\u001b[0m, \u001b[38;5;34m256\u001b[0m)    \u2502        \u001b[38;5;34m35,840\u001b[0m \u2502\n",
                            "\u251c\u2500\u2500\u2500\u2500\u2500\u2500\u2500\u2500\u2500\u2500\u2500\u2500\u2500\u2500\u2500\u2500\u2500\u2500\u2500\u2500\u2500\u2500\u2500\u2500\u2500\u2500\u2500\u2500\u2500\u2500\u2500\u2500\u2500\u253c\u2500\u2500\u2500\u2500\u2500\u2500\u2500\u2500\u2500\u2500\u2500\u2500\u2500\u2500\u2500\u2500\u2500\u2500\u2500\u2500\u2500\u2500\u2500\u2500\u253c\u2500\u2500\u2500\u2500\u2500\u2500\u2500\u2500\u2500\u2500\u2500\u2500\u2500\u2500\u2500\u2524\n",
                            "\u2502 sequential_15 (\u001b[38;5;33mSequential\u001b[0m)      \u2502 (\u001b[38;5;45mNone\u001b[0m, \u001b[38;5;34m16\u001b[0m, \u001b[38;5;34m16\u001b[0m, \u001b[38;5;34m256\u001b[0m)    \u2502        \u001b[38;5;34m70,400\u001b[0m \u2502\n",
                            "\u251c\u2500\u2500\u2500\u2500\u2500\u2500\u2500\u2500\u2500\u2500\u2500\u2500\u2500\u2500\u2500\u2500\u2500\u2500\u2500\u2500\u2500\u2500\u2500\u2500\u2500\u2500\u2500\u2500\u2500\u2500\u2500\u2500\u2500\u253c\u2500\u2500\u2500\u2500\u2500\u2500\u2500\u2500\u2500\u2500\u2500\u2500\u2500\u2500\u2500\u2500\u2500\u2500\u2500\u2500\u2500\u2500\u2500\u2500\u253c\u2500\u2500\u2500\u2500\u2500\u2500\u2500\u2500\u2500\u2500\u2500\u2500\u2500\u2500\u2500\u2524\n",
                            "\u2502 sequential_18 (\u001b[38;5;33mSequential\u001b[0m)      \u2502 (\u001b[38;5;45mNone\u001b[0m, \u001b[38;5;34m8\u001b[0m, \u001b[38;5;34m8\u001b[0m, \u001b[38;5;34m512\u001b[0m)      \u2502       \u001b[38;5;34m137,216\u001b[0m \u2502\n",
                            "\u251c\u2500\u2500\u2500\u2500\u2500\u2500\u2500\u2500\u2500\u2500\u2500\u2500\u2500\u2500\u2500\u2500\u2500\u2500\u2500\u2500\u2500\u2500\u2500\u2500\u2500\u2500\u2500\u2500\u2500\u2500\u2500\u2500\u2500\u253c\u2500\u2500\u2500\u2500\u2500\u2500\u2500\u2500\u2500\u2500\u2500\u2500\u2500\u2500\u2500\u2500\u2500\u2500\u2500\u2500\u2500\u2500\u2500\u2500\u253c\u2500\u2500\u2500\u2500\u2500\u2500\u2500\u2500\u2500\u2500\u2500\u2500\u2500\u2500\u2500\u2524\n",
                            "\u2502 sequential_21 (\u001b[38;5;33mSequential\u001b[0m)      \u2502 (\u001b[38;5;45mNone\u001b[0m, \u001b[38;5;34m8\u001b[0m, \u001b[38;5;34m8\u001b[0m, \u001b[38;5;34m512\u001b[0m)      \u2502       \u001b[38;5;34m271,872\u001b[0m \u2502\n",
                            "\u251c\u2500\u2500\u2500\u2500\u2500\u2500\u2500\u2500\u2500\u2500\u2500\u2500\u2500\u2500\u2500\u2500\u2500\u2500\u2500\u2500\u2500\u2500\u2500\u2500\u2500\u2500\u2500\u2500\u2500\u2500\u2500\u2500\u2500\u253c\u2500\u2500\u2500\u2500\u2500\u2500\u2500\u2500\u2500\u2500\u2500\u2500\u2500\u2500\u2500\u2500\u2500\u2500\u2500\u2500\u2500\u2500\u2500\u2500\u253c\u2500\u2500\u2500\u2500\u2500\u2500\u2500\u2500\u2500\u2500\u2500\u2500\u2500\u2500\u2500\u2524\n",
                            "\u2502 sequential_24 (\u001b[38;5;33mSequential\u001b[0m)      \u2502 (\u001b[38;5;45mNone\u001b[0m, \u001b[38;5;34m8\u001b[0m, \u001b[38;5;34m8\u001b[0m, \u001b[38;5;34m512\u001b[0m)      \u2502       \u001b[38;5;34m271,872\u001b[0m \u2502\n",
                            "\u251c\u2500\u2500\u2500\u2500\u2500\u2500\u2500\u2500\u2500\u2500\u2500\u2500\u2500\u2500\u2500\u2500\u2500\u2500\u2500\u2500\u2500\u2500\u2500\u2500\u2500\u2500\u2500\u2500\u2500\u2500\u2500\u2500\u2500\u253c\u2500\u2500\u2500\u2500\u2500\u2500\u2500\u2500\u2500\u2500\u2500\u2500\u2500\u2500\u2500\u2500\u2500\u2500\u2500\u2500\u2500\u2500\u2500\u2500\u253c\u2500\u2500\u2500\u2500\u2500\u2500\u2500\u2500\u2500\u2500\u2500\u2500\u2500\u2500\u2500\u2524\n",
                            "\u2502 sequential_27 (\u001b[38;5;33mSequential\u001b[0m)      \u2502 (\u001b[38;5;45mNone\u001b[0m, \u001b[38;5;34m8\u001b[0m, \u001b[38;5;34m8\u001b[0m, \u001b[38;5;34m512\u001b[0m)      \u2502       \u001b[38;5;34m271,872\u001b[0m \u2502\n",
                            "\u251c\u2500\u2500\u2500\u2500\u2500\u2500\u2500\u2500\u2500\u2500\u2500\u2500\u2500\u2500\u2500\u2500\u2500\u2500\u2500\u2500\u2500\u2500\u2500\u2500\u2500\u2500\u2500\u2500\u2500\u2500\u2500\u2500\u2500\u253c\u2500\u2500\u2500\u2500\u2500\u2500\u2500\u2500\u2500\u2500\u2500\u2500\u2500\u2500\u2500\u2500\u2500\u2500\u2500\u2500\u2500\u2500\u2500\u2500\u253c\u2500\u2500\u2500\u2500\u2500\u2500\u2500\u2500\u2500\u2500\u2500\u2500\u2500\u2500\u2500\u2524\n",
                            "\u2502 sequential_30 (\u001b[38;5;33mSequential\u001b[0m)      \u2502 (\u001b[38;5;45mNone\u001b[0m, \u001b[38;5;34m8\u001b[0m, \u001b[38;5;34m8\u001b[0m, \u001b[38;5;34m512\u001b[0m)      \u2502       \u001b[38;5;34m271,872\u001b[0m \u2502\n",
                            "\u251c\u2500\u2500\u2500\u2500\u2500\u2500\u2500\u2500\u2500\u2500\u2500\u2500\u2500\u2500\u2500\u2500\u2500\u2500\u2500\u2500\u2500\u2500\u2500\u2500\u2500\u2500\u2500\u2500\u2500\u2500\u2500\u2500\u2500\u253c\u2500\u2500\u2500\u2500\u2500\u2500\u2500\u2500\u2500\u2500\u2500\u2500\u2500\u2500\u2500\u2500\u2500\u2500\u2500\u2500\u2500\u2500\u2500\u2500\u253c\u2500\u2500\u2500\u2500\u2500\u2500\u2500\u2500\u2500\u2500\u2500\u2500\u2500\u2500\u2500\u2524\n",
                            "\u2502 sequential_33 (\u001b[38;5;33mSequential\u001b[0m)      \u2502 (\u001b[38;5;45mNone\u001b[0m, \u001b[38;5;34m8\u001b[0m, \u001b[38;5;34m8\u001b[0m, \u001b[38;5;34m512\u001b[0m)      \u2502       \u001b[38;5;34m271,872\u001b[0m \u2502\n",
                            "\u251c\u2500\u2500\u2500\u2500\u2500\u2500\u2500\u2500\u2500\u2500\u2500\u2500\u2500\u2500\u2500\u2500\u2500\u2500\u2500\u2500\u2500\u2500\u2500\u2500\u2500\u2500\u2500\u2500\u2500\u2500\u2500\u2500\u2500\u253c\u2500\u2500\u2500\u2500\u2500\u2500\u2500\u2500\u2500\u2500\u2500\u2500\u2500\u2500\u2500\u2500\u2500\u2500\u2500\u2500\u2500\u2500\u2500\u2500\u253c\u2500\u2500\u2500\u2500\u2500\u2500\u2500\u2500\u2500\u2500\u2500\u2500\u2500\u2500\u2500\u2524\n",
                            "\u2502 sequential_36 (\u001b[38;5;33mSequential\u001b[0m)      \u2502 (\u001b[38;5;45mNone\u001b[0m, \u001b[38;5;34m4\u001b[0m, \u001b[38;5;34m4\u001b[0m, \u001b[38;5;34m1024\u001b[0m)     \u2502       \u001b[38;5;34m536,576\u001b[0m \u2502\n",
                            "\u251c\u2500\u2500\u2500\u2500\u2500\u2500\u2500\u2500\u2500\u2500\u2500\u2500\u2500\u2500\u2500\u2500\u2500\u2500\u2500\u2500\u2500\u2500\u2500\u2500\u2500\u2500\u2500\u2500\u2500\u2500\u2500\u2500\u2500\u253c\u2500\u2500\u2500\u2500\u2500\u2500\u2500\u2500\u2500\u2500\u2500\u2500\u2500\u2500\u2500\u2500\u2500\u2500\u2500\u2500\u2500\u2500\u2500\u2500\u253c\u2500\u2500\u2500\u2500\u2500\u2500\u2500\u2500\u2500\u2500\u2500\u2500\u2500\u2500\u2500\u2524\n",
                            "\u2502 sequential_39 (\u001b[38;5;33mSequential\u001b[0m)      \u2502 (\u001b[38;5;45mNone\u001b[0m, \u001b[38;5;34m4\u001b[0m, \u001b[38;5;34m4\u001b[0m, \u001b[38;5;34m1024\u001b[0m)     \u2502     \u001b[38;5;34m1,068,032\u001b[0m \u2502\n",
                            "\u251c\u2500\u2500\u2500\u2500\u2500\u2500\u2500\u2500\u2500\u2500\u2500\u2500\u2500\u2500\u2500\u2500\u2500\u2500\u2500\u2500\u2500\u2500\u2500\u2500\u2500\u2500\u2500\u2500\u2500\u2500\u2500\u2500\u2500\u253c\u2500\u2500\u2500\u2500\u2500\u2500\u2500\u2500\u2500\u2500\u2500\u2500\u2500\u2500\u2500\u2500\u2500\u2500\u2500\u2500\u2500\u2500\u2500\u2500\u253c\u2500\u2500\u2500\u2500\u2500\u2500\u2500\u2500\u2500\u2500\u2500\u2500\u2500\u2500\u2500\u2524\n",
                            "\u2502 global_average_pooling2d        \u2502 (\u001b[38;5;45mNone\u001b[0m, \u001b[38;5;34m1024\u001b[0m)           \u2502             \u001b[38;5;34m0\u001b[0m \u2502\n",
                            "\u2502 (\u001b[38;5;33mGlobalAveragePooling2D\u001b[0m)        \u2502                        \u2502               \u2502\n",
                            "\u251c\u2500\u2500\u2500\u2500\u2500\u2500\u2500\u2500\u2500\u2500\u2500\u2500\u2500\u2500\u2500\u2500\u2500\u2500\u2500\u2500\u2500\u2500\u2500\u2500\u2500\u2500\u2500\u2500\u2500\u2500\u2500\u2500\u2500\u253c\u2500\u2500\u2500\u2500\u2500\u2500\u2500\u2500\u2500\u2500\u2500\u2500\u2500\u2500\u2500\u2500\u2500\u2500\u2500\u2500\u2500\u2500\u2500\u2500\u253c\u2500\u2500\u2500\u2500\u2500\u2500\u2500\u2500\u2500\u2500\u2500\u2500\u2500\u2500\u2500\u2524\n",
                            "\u2502 dropout (\u001b[38;5;33mDropout\u001b[0m)               \u2502 (\u001b[38;5;45mNone\u001b[0m, \u001b[38;5;34m1024\u001b[0m)           \u2502             \u001b[38;5;34m0\u001b[0m \u2502\n",
                            "\u251c\u2500\u2500\u2500\u2500\u2500\u2500\u2500\u2500\u2500\u2500\u2500\u2500\u2500\u2500\u2500\u2500\u2500\u2500\u2500\u2500\u2500\u2500\u2500\u2500\u2500\u2500\u2500\u2500\u2500\u2500\u2500\u2500\u2500\u253c\u2500\u2500\u2500\u2500\u2500\u2500\u2500\u2500\u2500\u2500\u2500\u2500\u2500\u2500\u2500\u2500\u2500\u2500\u2500\u2500\u2500\u2500\u2500\u2500\u253c\u2500\u2500\u2500\u2500\u2500\u2500\u2500\u2500\u2500\u2500\u2500\u2500\u2500\u2500\u2500\u2524\n",
                            "\u2502 dense (\u001b[38;5;33mDense\u001b[0m)                   \u2502 (\u001b[38;5;45mNone\u001b[0m, \u001b[38;5;34m10\u001b[0m)             \u2502        \u001b[38;5;34m10,250\u001b[0m \u2502\n",
                            "\u2514\u2500\u2500\u2500\u2500\u2500\u2500\u2500\u2500\u2500\u2500\u2500\u2500\u2500\u2500\u2500\u2500\u2500\u2500\u2500\u2500\u2500\u2500\u2500\u2500\u2500\u2500\u2500\u2500\u2500\u2500\u2500\u2500\u2500\u2534\u2500\u2500\u2500\u2500\u2500\u2500\u2500\u2500\u2500\u2500\u2500\u2500\u2500\u2500\u2500\u2500\u2500\u2500\u2500\u2500\u2500\u2500\u2500\u2500\u2534\u2500\u2500\u2500\u2500\u2500\u2500\u2500\u2500\u2500\u2500\u2500\u2500\u2500\u2500\u2500\u2518\n"
                        ],
                        "text/html": [
                            "<pre style=\"white-space:pre;overflow-x:auto;line-height:normal;font-family:Menlo,'DejaVu Sans Mono',consolas,'Courier New',monospace\">\u250f\u2501\u2501\u2501\u2501\u2501\u2501\u2501\u2501\u2501\u2501\u2501\u2501\u2501\u2501\u2501\u2501\u2501\u2501\u2501\u2501\u2501\u2501\u2501\u2501\u2501\u2501\u2501\u2501\u2501\u2501\u2501\u2501\u2501\u2533\u2501\u2501\u2501\u2501\u2501\u2501\u2501\u2501\u2501\u2501\u2501\u2501\u2501\u2501\u2501\u2501\u2501\u2501\u2501\u2501\u2501\u2501\u2501\u2501\u2533\u2501\u2501\u2501\u2501\u2501\u2501\u2501\u2501\u2501\u2501\u2501\u2501\u2501\u2501\u2501\u2513\n",
                            "\u2503<span style=\"font-weight: bold\"> Layer (type)                    </span>\u2503<span style=\"font-weight: bold\"> Output Shape           </span>\u2503<span style=\"font-weight: bold\">       Param # </span>\u2503\n",
                            "\u2521\u2501\u2501\u2501\u2501\u2501\u2501\u2501\u2501\u2501\u2501\u2501\u2501\u2501\u2501\u2501\u2501\u2501\u2501\u2501\u2501\u2501\u2501\u2501\u2501\u2501\u2501\u2501\u2501\u2501\u2501\u2501\u2501\u2501\u2547\u2501\u2501\u2501\u2501\u2501\u2501\u2501\u2501\u2501\u2501\u2501\u2501\u2501\u2501\u2501\u2501\u2501\u2501\u2501\u2501\u2501\u2501\u2501\u2501\u2547\u2501\u2501\u2501\u2501\u2501\u2501\u2501\u2501\u2501\u2501\u2501\u2501\u2501\u2501\u2501\u2529\n",
                            "\u2502 sequential (<span style=\"color: #0087ff; text-decoration-color: #0087ff\">Sequential</span>)         \u2502 (<span style=\"color: #00d7ff; text-decoration-color: #00d7ff\">None</span>, <span style=\"color: #00af00; text-decoration-color: #00af00\">64</span>, <span style=\"color: #00af00; text-decoration-color: #00af00\">64</span>, <span style=\"color: #00af00; text-decoration-color: #00af00\">32</span>)     \u2502         <span style=\"color: #00af00; text-decoration-color: #00af00\">1,024</span> \u2502\n",
                            "\u251c\u2500\u2500\u2500\u2500\u2500\u2500\u2500\u2500\u2500\u2500\u2500\u2500\u2500\u2500\u2500\u2500\u2500\u2500\u2500\u2500\u2500\u2500\u2500\u2500\u2500\u2500\u2500\u2500\u2500\u2500\u2500\u2500\u2500\u253c\u2500\u2500\u2500\u2500\u2500\u2500\u2500\u2500\u2500\u2500\u2500\u2500\u2500\u2500\u2500\u2500\u2500\u2500\u2500\u2500\u2500\u2500\u2500\u2500\u253c\u2500\u2500\u2500\u2500\u2500\u2500\u2500\u2500\u2500\u2500\u2500\u2500\u2500\u2500\u2500\u2524\n",
                            "\u2502 sequential_3 (<span style=\"color: #0087ff; text-decoration-color: #0087ff\">Sequential</span>)       \u2502 (<span style=\"color: #00d7ff; text-decoration-color: #00d7ff\">None</span>, <span style=\"color: #00af00; text-decoration-color: #00af00\">64</span>, <span style=\"color: #00af00; text-decoration-color: #00af00\">64</span>, <span style=\"color: #00af00; text-decoration-color: #00af00\">64</span>)     \u2502         <span style=\"color: #00af00; text-decoration-color: #00af00\">2,816</span> \u2502\n",
                            "\u251c\u2500\u2500\u2500\u2500\u2500\u2500\u2500\u2500\u2500\u2500\u2500\u2500\u2500\u2500\u2500\u2500\u2500\u2500\u2500\u2500\u2500\u2500\u2500\u2500\u2500\u2500\u2500\u2500\u2500\u2500\u2500\u2500\u2500\u253c\u2500\u2500\u2500\u2500\u2500\u2500\u2500\u2500\u2500\u2500\u2500\u2500\u2500\u2500\u2500\u2500\u2500\u2500\u2500\u2500\u2500\u2500\u2500\u2500\u253c\u2500\u2500\u2500\u2500\u2500\u2500\u2500\u2500\u2500\u2500\u2500\u2500\u2500\u2500\u2500\u2524\n",
                            "\u2502 sequential_6 (<span style=\"color: #0087ff; text-decoration-color: #0087ff\">Sequential</span>)       \u2502 (<span style=\"color: #00d7ff; text-decoration-color: #00d7ff\">None</span>, <span style=\"color: #00af00; text-decoration-color: #00af00\">32</span>, <span style=\"color: #00af00; text-decoration-color: #00af00\">32</span>, <span style=\"color: #00af00; text-decoration-color: #00af00\">128</span>)    \u2502         <span style=\"color: #00af00; text-decoration-color: #00af00\">9,728</span> \u2502\n",
                            "\u251c\u2500\u2500\u2500\u2500\u2500\u2500\u2500\u2500\u2500\u2500\u2500\u2500\u2500\u2500\u2500\u2500\u2500\u2500\u2500\u2500\u2500\u2500\u2500\u2500\u2500\u2500\u2500\u2500\u2500\u2500\u2500\u2500\u2500\u253c\u2500\u2500\u2500\u2500\u2500\u2500\u2500\u2500\u2500\u2500\u2500\u2500\u2500\u2500\u2500\u2500\u2500\u2500\u2500\u2500\u2500\u2500\u2500\u2500\u253c\u2500\u2500\u2500\u2500\u2500\u2500\u2500\u2500\u2500\u2500\u2500\u2500\u2500\u2500\u2500\u2524\n",
                            "\u2502 sequential_9 (<span style=\"color: #0087ff; text-decoration-color: #0087ff\">Sequential</span>)       \u2502 (<span style=\"color: #00d7ff; text-decoration-color: #00d7ff\">None</span>, <span style=\"color: #00af00; text-decoration-color: #00af00\">32</span>, <span style=\"color: #00af00; text-decoration-color: #00af00\">32</span>, <span style=\"color: #00af00; text-decoration-color: #00af00\">128</span>)    \u2502        <span style=\"color: #00af00; text-decoration-color: #00af00\">18,816</span> \u2502\n",
                            "\u251c\u2500\u2500\u2500\u2500\u2500\u2500\u2500\u2500\u2500\u2500\u2500\u2500\u2500\u2500\u2500\u2500\u2500\u2500\u2500\u2500\u2500\u2500\u2500\u2500\u2500\u2500\u2500\u2500\u2500\u2500\u2500\u2500\u2500\u253c\u2500\u2500\u2500\u2500\u2500\u2500\u2500\u2500\u2500\u2500\u2500\u2500\u2500\u2500\u2500\u2500\u2500\u2500\u2500\u2500\u2500\u2500\u2500\u2500\u253c\u2500\u2500\u2500\u2500\u2500\u2500\u2500\u2500\u2500\u2500\u2500\u2500\u2500\u2500\u2500\u2524\n",
                            "\u2502 sequential_12 (<span style=\"color: #0087ff; text-decoration-color: #0087ff\">Sequential</span>)      \u2502 (<span style=\"color: #00d7ff; text-decoration-color: #00d7ff\">None</span>, <span style=\"color: #00af00; text-decoration-color: #00af00\">16</span>, <span style=\"color: #00af00; text-decoration-color: #00af00\">16</span>, <span style=\"color: #00af00; text-decoration-color: #00af00\">256</span>)    \u2502        <span style=\"color: #00af00; text-decoration-color: #00af00\">35,840</span> \u2502\n",
                            "\u251c\u2500\u2500\u2500\u2500\u2500\u2500\u2500\u2500\u2500\u2500\u2500\u2500\u2500\u2500\u2500\u2500\u2500\u2500\u2500\u2500\u2500\u2500\u2500\u2500\u2500\u2500\u2500\u2500\u2500\u2500\u2500\u2500\u2500\u253c\u2500\u2500\u2500\u2500\u2500\u2500\u2500\u2500\u2500\u2500\u2500\u2500\u2500\u2500\u2500\u2500\u2500\u2500\u2500\u2500\u2500\u2500\u2500\u2500\u253c\u2500\u2500\u2500\u2500\u2500\u2500\u2500\u2500\u2500\u2500\u2500\u2500\u2500\u2500\u2500\u2524\n",
                            "\u2502 sequential_15 (<span style=\"color: #0087ff; text-decoration-color: #0087ff\">Sequential</span>)      \u2502 (<span style=\"color: #00d7ff; text-decoration-color: #00d7ff\">None</span>, <span style=\"color: #00af00; text-decoration-color: #00af00\">16</span>, <span style=\"color: #00af00; text-decoration-color: #00af00\">16</span>, <span style=\"color: #00af00; text-decoration-color: #00af00\">256</span>)    \u2502        <span style=\"color: #00af00; text-decoration-color: #00af00\">70,400</span> \u2502\n",
                            "\u251c\u2500\u2500\u2500\u2500\u2500\u2500\u2500\u2500\u2500\u2500\u2500\u2500\u2500\u2500\u2500\u2500\u2500\u2500\u2500\u2500\u2500\u2500\u2500\u2500\u2500\u2500\u2500\u2500\u2500\u2500\u2500\u2500\u2500\u253c\u2500\u2500\u2500\u2500\u2500\u2500\u2500\u2500\u2500\u2500\u2500\u2500\u2500\u2500\u2500\u2500\u2500\u2500\u2500\u2500\u2500\u2500\u2500\u2500\u253c\u2500\u2500\u2500\u2500\u2500\u2500\u2500\u2500\u2500\u2500\u2500\u2500\u2500\u2500\u2500\u2524\n",
                            "\u2502 sequential_18 (<span style=\"color: #0087ff; text-decoration-color: #0087ff\">Sequential</span>)      \u2502 (<span style=\"color: #00d7ff; text-decoration-color: #00d7ff\">None</span>, <span style=\"color: #00af00; text-decoration-color: #00af00\">8</span>, <span style=\"color: #00af00; text-decoration-color: #00af00\">8</span>, <span style=\"color: #00af00; text-decoration-color: #00af00\">512</span>)      \u2502       <span style=\"color: #00af00; text-decoration-color: #00af00\">137,216</span> \u2502\n",
                            "\u251c\u2500\u2500\u2500\u2500\u2500\u2500\u2500\u2500\u2500\u2500\u2500\u2500\u2500\u2500\u2500\u2500\u2500\u2500\u2500\u2500\u2500\u2500\u2500\u2500\u2500\u2500\u2500\u2500\u2500\u2500\u2500\u2500\u2500\u253c\u2500\u2500\u2500\u2500\u2500\u2500\u2500\u2500\u2500\u2500\u2500\u2500\u2500\u2500\u2500\u2500\u2500\u2500\u2500\u2500\u2500\u2500\u2500\u2500\u253c\u2500\u2500\u2500\u2500\u2500\u2500\u2500\u2500\u2500\u2500\u2500\u2500\u2500\u2500\u2500\u2524\n",
                            "\u2502 sequential_21 (<span style=\"color: #0087ff; text-decoration-color: #0087ff\">Sequential</span>)      \u2502 (<span style=\"color: #00d7ff; text-decoration-color: #00d7ff\">None</span>, <span style=\"color: #00af00; text-decoration-color: #00af00\">8</span>, <span style=\"color: #00af00; text-decoration-color: #00af00\">8</span>, <span style=\"color: #00af00; text-decoration-color: #00af00\">512</span>)      \u2502       <span style=\"color: #00af00; text-decoration-color: #00af00\">271,872</span> \u2502\n",
                            "\u251c\u2500\u2500\u2500\u2500\u2500\u2500\u2500\u2500\u2500\u2500\u2500\u2500\u2500\u2500\u2500\u2500\u2500\u2500\u2500\u2500\u2500\u2500\u2500\u2500\u2500\u2500\u2500\u2500\u2500\u2500\u2500\u2500\u2500\u253c\u2500\u2500\u2500\u2500\u2500\u2500\u2500\u2500\u2500\u2500\u2500\u2500\u2500\u2500\u2500\u2500\u2500\u2500\u2500\u2500\u2500\u2500\u2500\u2500\u253c\u2500\u2500\u2500\u2500\u2500\u2500\u2500\u2500\u2500\u2500\u2500\u2500\u2500\u2500\u2500\u2524\n",
                            "\u2502 sequential_24 (<span style=\"color: #0087ff; text-decoration-color: #0087ff\">Sequential</span>)      \u2502 (<span style=\"color: #00d7ff; text-decoration-color: #00d7ff\">None</span>, <span style=\"color: #00af00; text-decoration-color: #00af00\">8</span>, <span style=\"color: #00af00; text-decoration-color: #00af00\">8</span>, <span style=\"color: #00af00; text-decoration-color: #00af00\">512</span>)      \u2502       <span style=\"color: #00af00; text-decoration-color: #00af00\">271,872</span> \u2502\n",
                            "\u251c\u2500\u2500\u2500\u2500\u2500\u2500\u2500\u2500\u2500\u2500\u2500\u2500\u2500\u2500\u2500\u2500\u2500\u2500\u2500\u2500\u2500\u2500\u2500\u2500\u2500\u2500\u2500\u2500\u2500\u2500\u2500\u2500\u2500\u253c\u2500\u2500\u2500\u2500\u2500\u2500\u2500\u2500\u2500\u2500\u2500\u2500\u2500\u2500\u2500\u2500\u2500\u2500\u2500\u2500\u2500\u2500\u2500\u2500\u253c\u2500\u2500\u2500\u2500\u2500\u2500\u2500\u2500\u2500\u2500\u2500\u2500\u2500\u2500\u2500\u2524\n",
                            "\u2502 sequential_27 (<span style=\"color: #0087ff; text-decoration-color: #0087ff\">Sequential</span>)      \u2502 (<span style=\"color: #00d7ff; text-decoration-color: #00d7ff\">None</span>, <span style=\"color: #00af00; text-decoration-color: #00af00\">8</span>, <span style=\"color: #00af00; text-decoration-color: #00af00\">8</span>, <span style=\"color: #00af00; text-decoration-color: #00af00\">512</span>)      \u2502       <span style=\"color: #00af00; text-decoration-color: #00af00\">271,872</span> \u2502\n",
                            "\u251c\u2500\u2500\u2500\u2500\u2500\u2500\u2500\u2500\u2500\u2500\u2500\u2500\u2500\u2500\u2500\u2500\u2500\u2500\u2500\u2500\u2500\u2500\u2500\u2500\u2500\u2500\u2500\u2500\u2500\u2500\u2500\u2500\u2500\u253c\u2500\u2500\u2500\u2500\u2500\u2500\u2500\u2500\u2500\u2500\u2500\u2500\u2500\u2500\u2500\u2500\u2500\u2500\u2500\u2500\u2500\u2500\u2500\u2500\u253c\u2500\u2500\u2500\u2500\u2500\u2500\u2500\u2500\u2500\u2500\u2500\u2500\u2500\u2500\u2500\u2524\n",
                            "\u2502 sequential_30 (<span style=\"color: #0087ff; text-decoration-color: #0087ff\">Sequential</span>)      \u2502 (<span style=\"color: #00d7ff; text-decoration-color: #00d7ff\">None</span>, <span style=\"color: #00af00; text-decoration-color: #00af00\">8</span>, <span style=\"color: #00af00; text-decoration-color: #00af00\">8</span>, <span style=\"color: #00af00; text-decoration-color: #00af00\">512</span>)      \u2502       <span style=\"color: #00af00; text-decoration-color: #00af00\">271,872</span> \u2502\n",
                            "\u251c\u2500\u2500\u2500\u2500\u2500\u2500\u2500\u2500\u2500\u2500\u2500\u2500\u2500\u2500\u2500\u2500\u2500\u2500\u2500\u2500\u2500\u2500\u2500\u2500\u2500\u2500\u2500\u2500\u2500\u2500\u2500\u2500\u2500\u253c\u2500\u2500\u2500\u2500\u2500\u2500\u2500\u2500\u2500\u2500\u2500\u2500\u2500\u2500\u2500\u2500\u2500\u2500\u2500\u2500\u2500\u2500\u2500\u2500\u253c\u2500\u2500\u2500\u2500\u2500\u2500\u2500\u2500\u2500\u2500\u2500\u2500\u2500\u2500\u2500\u2524\n",
                            "\u2502 sequential_33 (<span style=\"color: #0087ff; text-decoration-color: #0087ff\">Sequential</span>)      \u2502 (<span style=\"color: #00d7ff; text-decoration-color: #00d7ff\">None</span>, <span style=\"color: #00af00; text-decoration-color: #00af00\">8</span>, <span style=\"color: #00af00; text-decoration-color: #00af00\">8</span>, <span style=\"color: #00af00; text-decoration-color: #00af00\">512</span>)      \u2502       <span style=\"color: #00af00; text-decoration-color: #00af00\">271,872</span> \u2502\n",
                            "\u251c\u2500\u2500\u2500\u2500\u2500\u2500\u2500\u2500\u2500\u2500\u2500\u2500\u2500\u2500\u2500\u2500\u2500\u2500\u2500\u2500\u2500\u2500\u2500\u2500\u2500\u2500\u2500\u2500\u2500\u2500\u2500\u2500\u2500\u253c\u2500\u2500\u2500\u2500\u2500\u2500\u2500\u2500\u2500\u2500\u2500\u2500\u2500\u2500\u2500\u2500\u2500\u2500\u2500\u2500\u2500\u2500\u2500\u2500\u253c\u2500\u2500\u2500\u2500\u2500\u2500\u2500\u2500\u2500\u2500\u2500\u2500\u2500\u2500\u2500\u2524\n",
                            "\u2502 sequential_36 (<span style=\"color: #0087ff; text-decoration-color: #0087ff\">Sequential</span>)      \u2502 (<span style=\"color: #00d7ff; text-decoration-color: #00d7ff\">None</span>, <span style=\"color: #00af00; text-decoration-color: #00af00\">4</span>, <span style=\"color: #00af00; text-decoration-color: #00af00\">4</span>, <span style=\"color: #00af00; text-decoration-color: #00af00\">1024</span>)     \u2502       <span style=\"color: #00af00; text-decoration-color: #00af00\">536,576</span> \u2502\n",
                            "\u251c\u2500\u2500\u2500\u2500\u2500\u2500\u2500\u2500\u2500\u2500\u2500\u2500\u2500\u2500\u2500\u2500\u2500\u2500\u2500\u2500\u2500\u2500\u2500\u2500\u2500\u2500\u2500\u2500\u2500\u2500\u2500\u2500\u2500\u253c\u2500\u2500\u2500\u2500\u2500\u2500\u2500\u2500\u2500\u2500\u2500\u2500\u2500\u2500\u2500\u2500\u2500\u2500\u2500\u2500\u2500\u2500\u2500\u2500\u253c\u2500\u2500\u2500\u2500\u2500\u2500\u2500\u2500\u2500\u2500\u2500\u2500\u2500\u2500\u2500\u2524\n",
                            "\u2502 sequential_39 (<span style=\"color: #0087ff; text-decoration-color: #0087ff\">Sequential</span>)      \u2502 (<span style=\"color: #00d7ff; text-decoration-color: #00d7ff\">None</span>, <span style=\"color: #00af00; text-decoration-color: #00af00\">4</span>, <span style=\"color: #00af00; text-decoration-color: #00af00\">4</span>, <span style=\"color: #00af00; text-decoration-color: #00af00\">1024</span>)     \u2502     <span style=\"color: #00af00; text-decoration-color: #00af00\">1,068,032</span> \u2502\n",
                            "\u251c\u2500\u2500\u2500\u2500\u2500\u2500\u2500\u2500\u2500\u2500\u2500\u2500\u2500\u2500\u2500\u2500\u2500\u2500\u2500\u2500\u2500\u2500\u2500\u2500\u2500\u2500\u2500\u2500\u2500\u2500\u2500\u2500\u2500\u253c\u2500\u2500\u2500\u2500\u2500\u2500\u2500\u2500\u2500\u2500\u2500\u2500\u2500\u2500\u2500\u2500\u2500\u2500\u2500\u2500\u2500\u2500\u2500\u2500\u253c\u2500\u2500\u2500\u2500\u2500\u2500\u2500\u2500\u2500\u2500\u2500\u2500\u2500\u2500\u2500\u2524\n",
                            "\u2502 global_average_pooling2d        \u2502 (<span style=\"color: #00d7ff; text-decoration-color: #00d7ff\">None</span>, <span style=\"color: #00af00; text-decoration-color: #00af00\">1024</span>)           \u2502             <span style=\"color: #00af00; text-decoration-color: #00af00\">0</span> \u2502\n",
                            "\u2502 (<span style=\"color: #0087ff; text-decoration-color: #0087ff\">GlobalAveragePooling2D</span>)        \u2502                        \u2502               \u2502\n",
                            "\u251c\u2500\u2500\u2500\u2500\u2500\u2500\u2500\u2500\u2500\u2500\u2500\u2500\u2500\u2500\u2500\u2500\u2500\u2500\u2500\u2500\u2500\u2500\u2500\u2500\u2500\u2500\u2500\u2500\u2500\u2500\u2500\u2500\u2500\u253c\u2500\u2500\u2500\u2500\u2500\u2500\u2500\u2500\u2500\u2500\u2500\u2500\u2500\u2500\u2500\u2500\u2500\u2500\u2500\u2500\u2500\u2500\u2500\u2500\u253c\u2500\u2500\u2500\u2500\u2500\u2500\u2500\u2500\u2500\u2500\u2500\u2500\u2500\u2500\u2500\u2524\n",
                            "\u2502 dropout (<span style=\"color: #0087ff; text-decoration-color: #0087ff\">Dropout</span>)               \u2502 (<span style=\"color: #00d7ff; text-decoration-color: #00d7ff\">None</span>, <span style=\"color: #00af00; text-decoration-color: #00af00\">1024</span>)           \u2502             <span style=\"color: #00af00; text-decoration-color: #00af00\">0</span> \u2502\n",
                            "\u251c\u2500\u2500\u2500\u2500\u2500\u2500\u2500\u2500\u2500\u2500\u2500\u2500\u2500\u2500\u2500\u2500\u2500\u2500\u2500\u2500\u2500\u2500\u2500\u2500\u2500\u2500\u2500\u2500\u2500\u2500\u2500\u2500\u2500\u253c\u2500\u2500\u2500\u2500\u2500\u2500\u2500\u2500\u2500\u2500\u2500\u2500\u2500\u2500\u2500\u2500\u2500\u2500\u2500\u2500\u2500\u2500\u2500\u2500\u253c\u2500\u2500\u2500\u2500\u2500\u2500\u2500\u2500\u2500\u2500\u2500\u2500\u2500\u2500\u2500\u2524\n",
                            "\u2502 dense (<span style=\"color: #0087ff; text-decoration-color: #0087ff\">Dense</span>)                   \u2502 (<span style=\"color: #00d7ff; text-decoration-color: #00d7ff\">None</span>, <span style=\"color: #00af00; text-decoration-color: #00af00\">10</span>)             \u2502        <span style=\"color: #00af00; text-decoration-color: #00af00\">10,250</span> \u2502\n",
                            "\u2514\u2500\u2500\u2500\u2500\u2500\u2500\u2500\u2500\u2500\u2500\u2500\u2500\u2500\u2500\u2500\u2500\u2500\u2500\u2500\u2500\u2500\u2500\u2500\u2500\u2500\u2500\u2500\u2500\u2500\u2500\u2500\u2500\u2500\u2534\u2500\u2500\u2500\u2500\u2500\u2500\u2500\u2500\u2500\u2500\u2500\u2500\u2500\u2500\u2500\u2500\u2500\u2500\u2500\u2500\u2500\u2500\u2500\u2500\u2534\u2500\u2500\u2500\u2500\u2500\u2500\u2500\u2500\u2500\u2500\u2500\u2500\u2500\u2500\u2500\u2518\n",
                            "</pre>\n"
                        ]
                    },
                    "metadata": {}
                },
                {
                    "output_type": "display_data",
                    "data": {
                        "text/plain": [
                            "\u001b[1m Total params: \u001b[0m\u001b[38;5;34m3,250,058\u001b[0m (12.40 MB)\n"
                        ],
                        "text/html": [
                            "<pre style=\"white-space:pre;overflow-x:auto;line-height:normal;font-family:Menlo,'DejaVu Sans Mono',consolas,'Courier New',monospace\"><span style=\"font-weight: bold\"> Total params: </span><span style=\"color: #00af00; text-decoration-color: #00af00\">3,250,058</span> (12.40 MB)\n",
                            "</pre>\n"
                        ]
                    },
                    "metadata": {}
                },
                {
                    "output_type": "display_data",
                    "data": {
                        "text/plain": [
                            "\u001b[1m Trainable params: \u001b[0m\u001b[38;5;34m3,228,170\u001b[0m (12.31 MB)\n"
                        ],
                        "text/html": [
                            "<pre style=\"white-space:pre;overflow-x:auto;line-height:normal;font-family:Menlo,'DejaVu Sans Mono',consolas,'Courier New',monospace\"><span style=\"font-weight: bold\"> Trainable params: </span><span style=\"color: #00af00; text-decoration-color: #00af00\">3,228,170</span> (12.31 MB)\n",
                            "</pre>\n"
                        ]
                    },
                    "metadata": {}
                },
                {
                    "output_type": "display_data",
                    "data": {
                        "text/plain": [
                            "\u001b[1m Non-trainable params: \u001b[0m\u001b[38;5;34m21,888\u001b[0m (85.50 KB)\n"
                        ],
                        "text/html": [
                            "<pre style=\"white-space:pre;overflow-x:auto;line-height:normal;font-family:Menlo,'DejaVu Sans Mono',consolas,'Courier New',monospace\"><span style=\"font-weight: bold\"> Non-trainable params: </span><span style=\"color: #00af00; text-decoration-color: #00af00\">21,888</span> (85.50 KB)\n",
                            "</pre>\n"
                        ]
                    },
                    "metadata": {}
                }
            ],
            "source": [
                "model = MobileNetV1()\n",
                "model = model.build()\n",
                "model.compile(loss='sparse_categorical_crossentropy', optimizer='adam', metrics=['accuracy'])\n",
                "model.summary()"
            ]
        },
        {
            "cell_type": "code",
            "execution_count": 7,
            "id": "60befa7c",
            "metadata": {
                "colab": {
                    "base_uri": "https://localhost:8080/"
                },
                "id": "60befa7c",
                "outputId": "21e04f87-ac21-4f22-a8f9-f41ada4d4971"
            },
            "outputs": [
                {
                    "output_type": "stream",
                    "name": "stdout",
                    "text": [
                        "Epoch 1/3\n",
                        "\u001b[1m782/782\u001b[0m \u001b[32m\u2501\u2501\u2501\u2501\u2501\u2501\u2501\u2501\u2501\u2501\u2501\u2501\u2501\u2501\u2501\u2501\u2501\u2501\u2501\u2501\u001b[0m\u001b[37m\u001b[0m \u001b[1m113s\u001b[0m 92ms/step - accuracy: 0.3475 - loss: 1.7800\n",
                        "Epoch 2/3\n",
                        "\u001b[1m782/782\u001b[0m \u001b[32m\u2501\u2501\u2501\u2501\u2501\u2501\u2501\u2501\u2501\u2501\u2501\u2501\u2501\u2501\u2501\u2501\u2501\u2501\u2501\u2501\u001b[0m\u001b[37m\u001b[0m \u001b[1m52s\u001b[0m 66ms/step - accuracy: 0.5879 - loss: 1.1649\n",
                        "Epoch 3/3\n",
                        "\u001b[1m782/782\u001b[0m \u001b[32m\u2501\u2501\u2501\u2501\u2501\u2501\u2501\u2501\u2501\u2501\u2501\u2501\u2501\u2501\u2501\u2501\u2501\u2501\u2501\u2501\u001b[0m\u001b[37m\u001b[0m \u001b[1m49s\u001b[0m 63ms/step - accuracy: 0.6819 - loss: 0.9100\n"
                    ]
                },
                {
                    "output_type": "execute_result",
                    "data": {
                        "text/plain": [
                            "<keras.src.callbacks.history.History at 0x7c5706003260>"
                        ]
                    },
                    "metadata": {},
                    "execution_count": 7
                }
            ],
            "source": [
                "EPOCHS = 3\n",
                "model.fit(ds_train, epochs=EPOCHS)"
            ]
        },
        {
            "cell_type": "code",
            "execution_count": 8,
            "id": "dd0d0840",
            "metadata": {
                "colab": {
                    "base_uri": "https://localhost:8080/"
                },
                "id": "dd0d0840",
                "outputId": "a00f717f-c0a8-464b-9461-c1e3632a15ce"
            },
            "outputs": [
                {
                    "output_type": "stream",
                    "name": "stdout",
                    "text": [
                        "157/157 - 9s - 57ms/step - accuracy: 0.6276 - loss: 1.1212\n",
                        "Test Accuracy: 62.76%\n",
                        "Test Loss: 1.1212\n"
                    ]
                }
            ],
            "source": [
                "# Evaluation\n",
                "test_loss, test_acc = model.evaluate(ds_test, verbose=2)\n",
                "\n",
                "print(f\"Test Accuracy: {test_acc * 100:.2f}%\")\n",
                "print(f\"Test Loss: {test_loss:.4f}\")"
            ]
        },
        {
            "cell_type": "code",
            "execution_count": 9,
            "id": "b26d5d4c",
            "metadata": {
                "id": "b26d5d4c"
            },
            "outputs": [],
            "source": [
                "import contextlib\n",
                "\n",
                "saved_model_dir = \"mobilenetv1_cifar10\"\n",
                "\n",
                "with open(os.devnull, \"w\") as f, contextlib.redirect_stdout(f):\n",
                "    model.export(saved_model_dir)"
            ]
        },
        {
            "cell_type": "code",
            "execution_count": 10,
            "id": "717fbea3",
            "metadata": {
                "id": "717fbea3"
            },
            "outputs": [],
            "source": [
                "import numpy as np\n",
                "\n",
                "def representative_data_gen():\n",
                "    for images, _ in ds_train.take(100):\n",
                "        for image in images:\n",
                "            yield [np.expand_dims(image.numpy(), axis=0)] #(H, W, C) -> (B, H, W, C)"
            ]
        },
        {
            "cell_type": "code",
            "execution_count": 11,
            "id": "49829ffa",
            "metadata": {
                "colab": {
                    "base_uri": "https://localhost:8080/"
                },
                "id": "49829ffa",
                "outputId": "ce0a7bad-dfeb-4302-e059-278e7bd9b1a1"
            },
            "outputs": [
                {
                    "output_type": "stream",
                    "name": "stdout",
                    "text": [
                        "TFLite int8 model save mobilenetv1_cifar10_int8.tflite\n"
                    ]
                }
            ],
            "source": [
                "# FP32 -> Int8 quantization setting\n",
                "saved_model_dir = \"mobilenetv1_cifar10\"\n",
                "converter = tf.lite.TFLiteConverter.from_saved_model(saved_model_dir)\n",
                "converter.optimizations = [tf.lite.Optimize.DEFAULT]\n",
                "converter.representative_dataset = representative_data_gen\n",
                "converter.target_spec.supported_ops = [tf.lite.OpsSet.TFLITE_BUILTINS_INT8]\n",
                "converter.inference_input_type = tf.int8\n",
                "converter.inference_output_type = tf.int8\n",
                "\n",
                "tflite_model = converter.convert()\n",
                "\n",
                "tflite_model_file = \"mobilenetv1_cifar10_int8.tflite\"\n",
                "with open(tflite_model_file, \"wb\") as f:\n",
                "    f.write(tflite_model)\n",
                "\n",
                "print(f\"TFLite int8 model save {tflite_model_file}\")"
            ]
        },
        {
            "cell_type": "code",
            "execution_count": 12,
            "id": "17bc65e0",
            "metadata": {
                "colab": {
                    "base_uri": "https://localhost:8080/"
                },
                "id": "17bc65e0",
                "outputId": "ef282d59-3dda-406b-be61-55618f0fcb7b"
            },
            "outputs": [
                {
                    "output_type": "stream",
                    "name": "stderr",
                    "text": [
                        "/usr/local/lib/python3.12/dist-packages/tensorflow/lite/python/interpreter.py:457: UserWarning:     Warning: tf.lite.Interpreter is deprecated and is scheduled for deletion in\n",
                        "    TF 2.20. Please use the LiteRT interpreter from the ai_edge_litert package.\n",
                        "    See the [migration guide](https://ai.google.dev/edge/litert/migration)\n",
                        "    for details.\n",
                        "    \n",
                        "  warnings.warn(_INTERPRETER_DELETION_WARNING)\n"
                    ]
                },
                {
                    "output_type": "stream",
                    "name": "stdout",
                    "text": [
                        "6252/10000 correct, accuracy: 62.52%\n"
                    ]
                }
            ],
            "source": [
                "# Quantized Model Evaluation\n",
                "\n",
                "tflite_model_file = \"mobilenetv1_cifar10_int8.tflite\"\n",
                "interpreter = tf.lite.Interpreter(model_path=tflite_model_file)\n",
                "interpreter.allocate_tensors()\n",
                "\n",
                "input_details = interpreter.get_input_details()\n",
                "output_details = interpreter.get_output_details()\n",
                "\n",
                "input_scale, input_zero_point = input_details[0]['quantization']\n",
                "\n",
                "correct = 0\n",
                "total = 0\n",
                "\n",
                "for images, labels in ds_test:\n",
                "    for i in range(images.shape[0]):\n",
                "        input_data = np.expand_dims(images[i].numpy(), axis=0)\n",
                "        input_data = np.round(input_data / input_scale) + input_zero_point\n",
                "        input_data = input_data.astype(np.int8)\n",
                "\n",
                "        interpreter.set_tensor(input_details[0]['index'], input_data)\n",
                "        interpreter.invoke()\n",
                "        output_data = interpreter.get_tensor(output_details[0]['index'])\n",
                "        pred_label = np.argmax(output_data)\n",
                "\n",
                "        if pred_label == labels[i].numpy():\n",
                "            correct += 1\n",
                "        total += 1\n",
                "\n",
                "print(f\"{correct}/{total} correct, accuracy: {correct/total*100:.2f}%\")"
            ]
        }
    ],
    "metadata": {
        "kernelspec": {
            "display_name": "Python 3",
            "name": "python3"
        },
        "language_info": {
            "codemirror_mode": {
                "name": "ipython",
                "version": 3
            },
            "file_extension": ".py",
            "mimetype": "text/x-python",
            "name": "python",
            "nbconvert_exporter": "python",
            "pygments_lexer": "ipython3",
            "version": "3.11.4"
        },
        "colab": {
            "provenance": [],
            "gpuType": "T4"
        }
    },
    "nbformat": 4,
    "nbformat_minor": 5
}